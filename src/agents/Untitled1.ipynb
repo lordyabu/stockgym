{
 "cells": [
  {
   "cell_type": "code",
   "execution_count": 1,
   "id": "444f3036",
   "metadata": {},
   "outputs": [],
   "source": [
    "import gym\n",
    "import numpy as np"
   ]
  },
  {
   "cell_type": "code",
   "execution_count": 5,
   "id": "168d0919",
   "metadata": {},
   "outputs": [
    {
     "name": "stdout",
     "output_type": "stream",
     "text": [
      "Episode 1: Total Reward = 40.0\n",
      "Episode 2: Total Reward = 20.0\n",
      "Episode 3: Total Reward = 29.0\n",
      "Episode 4: Total Reward = 9.0\n",
      "Episode 5: Total Reward = 27.0\n",
      "Episode 6: Total Reward = 58.0\n",
      "Episode 7: Total Reward = 18.0\n",
      "Episode 8: Total Reward = 10.0\n",
      "Episode 9: Total Reward = 14.0\n",
      "Episode 10: Total Reward = 16.0\n"
     ]
    }
   ],
   "source": [
    "# Initialize the CartPole environment\n",
    "env = gym.make('CartPole-v1')\n",
    "\n",
    "# Define the number of episodes you want to run\n",
    "num_episodes = 10\n",
    "\n",
    "for episode in range(num_episodes):\n",
    "    # Reset the environment for a new episode\n",
    "    state = env.reset()\n",
    "    done = False\n",
    "    episode_reward = 0\n",
    "\n",
    "    while not done:\n",
    "        env.render()\n",
    "\n",
    "        # Select a random action\n",
    "        action = env.action_space.sample()\n",
    "\n",
    "        # Execute the action and get the next state, reward, and done flag\n",
    "        next_state, reward, terminated, truncated, info = env.step(action)\n",
    "\n",
    "\n",
    "        # Update total reward\n",
    "        episode_reward += reward\n",
    "        \n",
    "        done = terminated or truncated\n",
    "\n",
    "\n",
    "        # Update state\n",
    "        state = next_state\n",
    "\n",
    "    print(f\"Episode {episode + 1}: Total Reward = {episode_reward}\")"
   ]
  },
  {
   "cell_type": "code",
   "execution_count": null,
   "id": "5ac22b27",
   "metadata": {},
   "outputs": [],
   "source": []
  }
 ],
 "metadata": {
  "kernelspec": {
   "display_name": "Python 3 (ipykernel)",
   "language": "python",
   "name": "python3"
  },
  "language_info": {
   "codemirror_mode": {
    "name": "ipython",
    "version": 3
   },
   "file_extension": ".py",
   "mimetype": "text/x-python",
   "name": "python",
   "nbconvert_exporter": "python",
   "pygments_lexer": "ipython3",
   "version": "3.9.12"
  }
 },
 "nbformat": 4,
 "nbformat_minor": 5
}
